{
 "cells": [
  {
   "cell_type": "code",
   "execution_count": 1,
   "metadata": {},
   "outputs": [
    {
     "name": "stdout",
     "output_type": "stream",
     "text": [
      "Downloading date for current day [2024-01-29]\n"
     ]
    },
    {
     "name": "stderr",
     "output_type": "stream",
     "text": [
      "[*********************100%%**********************]  1 of 1 completed\n"
     ]
    }
   ],
   "source": [
    "import LoadData\n",
    "import pandas as pd\n",
    "import utils as utls\n",
    "import yfinance as yf\n",
    "from datetime import datetime\n",
    "from sklearn.preprocessing import MinMaxScaler\n",
    "\n",
    "# Set symbol\n",
    "symbol = \"BZ=F\"\n",
    "#Take current day\n",
    "today_date = datetime.today().date()\n",
    "print(f\"Downloading date for current day [{today_date}]\")\n",
    "# Download data\n",
    "data = yf.download(symbol, \n",
    "                   start=\"1980-01-01\", \n",
    "                   end=today_date,\n",
    "                   threads = True\n",
    ")\n",
    "\n",
    "# Preprocess data\n",
    "data = data[\"Close\"].dropna() # Remove all columns except \"Close\"\n",
    "\n",
    "# Split data into training and testing sets\n",
    "train_size = int(len(data) * 0.8)\n",
    "train_set = data[:train_size]\n",
    "test_set = data[train_size:]\n",
    "\n",
    "# Save data in csv\n",
    "train_set.to_csv(f'datasets/{symbol}_train.csv', index = True)\n",
    "test_set.to_csv(f'datasets/{symbol}_test.csv', index = True)\n",
    "\n",
    "# Normalize the data\n",
    "scaler = MinMaxScaler()\n",
    "train_set = scaler.fit_transform(train_set.values.reshape(-1, 1))\n",
    "test_set = scaler.fit_transform(test_set.values.reshape(-1, 1))\n",
    "\n",
    "# Convert numpy array to dataframe\n",
    "df_train = pd.DataFrame(train_set, columns = ['Close'],)\n",
    "df_test = pd.DataFrame(test_set, columns = ['Close'])\n",
    "\n",
    "# Save data normalized in csv\n",
    "df_train.to_csv(f'datasets/{symbol}_train_norm.csv', index = True)\n",
    "df_test.to_csv(f'datasets/{symbol}_test_norm.csv', index = True)\n",
    "\n",
    "pathTrain = \"datasets/BZ=F_train_norm.csv\"\n",
    "pathTest = \"datasets/BZ=F_test_norm.csv\"\n",
    "data = LoadData.Data(pathTrain, pathTest)\n",
    "train = data.data_train"
   ]
  },
  {
   "cell_type": "code",
   "execution_count": 2,
   "metadata": {},
   "outputs": [],
   "source": [
    "x, y = utls.subList(train.to_numpy())"
   ]
  }
 ],
 "metadata": {
  "kernelspec": {
   "display_name": "energica",
   "language": "python",
   "name": "python3"
  },
  "language_info": {
   "codemirror_mode": {
    "name": "ipython",
    "version": 3
   },
   "file_extension": ".py",
   "mimetype": "text/x-python",
   "name": "python",
   "nbconvert_exporter": "python",
   "pygments_lexer": "ipython3",
   "version": "3.11.7"
  }
 },
 "nbformat": 4,
 "nbformat_minor": 2
}
